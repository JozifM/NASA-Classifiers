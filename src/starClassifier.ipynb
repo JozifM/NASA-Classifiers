{
 "cells": [
  {
   "cell_type": "code",
   "execution_count": 146,
   "metadata": {
    "metadata": {}
   },
   "outputs": [],
   "source": [
    "import pandas as pd\n",
    "from functions import get_data\n",
    "from sklearn.model_selection import train_test_split\n",
    "from sklearn.metrics import f1_score, precision_score, recall_score\n",
    "from sklearn.decomposition import PCA\n",
    "from sklearn.neighbors import KNeighborsClassifier\n",
    "from sklearn.tree import DecisionTreeClassifier\n",
    "from sklearn.linear_model import LogisticRegression\n",
    "from sklearn.naive_bayes import GaussianNB\n",
    "from sklearn.svm import LinearSVC\n",
    "from sklearn.preprocessing import MinMaxScaler\n",
    "from sklearn.metrics import confusion_matrix\n",
    "import matplotlib.pyplot as plt\n",
    "import seaborn as sns"
   ]
  },
  {
   "cell_type": "code",
   "execution_count": 147,
   "metadata": {
    "metadata": {}
   },
   "outputs": [
    {
     "name": "stdout",
     "output_type": "stream",
     "text": [
      "   Temperature (K)  Luminosity(L/Lo)  Radius(R/Ro)  Absolute magnitude(Mv)  \\\n",
      "0             3068          0.002400        0.1700                   16.12   \n",
      "1             3042          0.000500        0.1542                   16.60   \n",
      "2             2600          0.000300        0.1020                   18.70   \n",
      "3             2800          0.000200        0.1600                   16.65   \n",
      "4             1939          0.000138        0.1030                   20.06   \n",
      "\n",
      "   Star type Star color Spectral Class  \n",
      "0          0        Red              M  \n",
      "1          0        Red              M  \n",
      "2          0        Red              M  \n",
      "3          0        Red              M  \n",
      "4          0        Red              M  \n"
     ]
    }
   ],
   "source": [
    "# Get star data\n",
    "df = pd.read_csv('../input/6 class csv.csv')\n",
    "print(df.head())"
   ]
  },
  {
   "cell_type": "code",
   "execution_count": 148,
   "metadata": {
    "metadata": {}
   },
   "outputs": [
    {
     "name": "stdout",
     "output_type": "stream",
     "text": [
      "<class 'pandas.core.frame.DataFrame'>\n",
      "RangeIndex: 240 entries, 0 to 239\n",
      "Data columns (total 7 columns):\n",
      " #   Column                  Non-Null Count  Dtype  \n",
      "---  ------                  --------------  -----  \n",
      " 0   Temperature (K)         240 non-null    int64  \n",
      " 1   Luminosity(L/Lo)        240 non-null    float64\n",
      " 2   Radius(R/Ro)            240 non-null    float64\n",
      " 3   Absolute magnitude(Mv)  240 non-null    float64\n",
      " 4   Star type               240 non-null    int64  \n",
      " 5   Star color              240 non-null    object \n",
      " 6   Spectral Class          240 non-null    object \n",
      "dtypes: float64(3), int64(2), object(2)\n",
      "memory usage: 13.2+ KB\n",
      "None\n"
     ]
    }
   ],
   "source": [
    "print(df.info())"
   ]
  },
  {
   "cell_type": "code",
   "execution_count": 149,
   "metadata": {
    "metadata": {}
   },
   "outputs": [
    {
     "name": "stdout",
     "output_type": "stream",
     "text": [
      "0    40\n",
      "1    40\n",
      "2    40\n",
      "3    40\n",
      "4    40\n",
      "5    40\n",
      "Name: Star type, dtype: int64\n"
     ]
    }
   ],
   "source": [
    "print(df['Star type'].value_counts())"
   ]
  },
  {
   "cell_type": "code",
   "execution_count": 150,
   "metadata": {
    "metadata": {}
   },
   "outputs": [
    {
     "data": {
      "text/plain": [
       "array([0, 1, 2, 3, 4, 5])"
      ]
     },
     "execution_count": 150,
     "metadata": {},
     "output_type": "execute_result"
    }
   ],
   "source": [
    "#(Red Dwarf, Brown Dwarf, White Dwarf, Main Sequence , SuperGiants, HyperGiants)\n",
    "pd.unique(df['Star type'])"
   ]
  },
  {
   "cell_type": "code",
   "execution_count": 151,
   "metadata": {
    "metadata": {}
   },
   "outputs": [
    {
     "data": {
      "image/png": "[encoded data removed]",
      "text/plain": [
       "<Figure size 640x480 with 1 Axes>"
      ]
     },
     "metadata": {},
     "output_type": "display_data"
    }
   ],
   "source": [
    "# Print distribution of star types. All even in this case (40 per star type)\n",
    "df['Star type'].hist(bins=6)\n",
    "plt.title('Star Type Distribution')\n",
    "plt.show()"
   ]
  },
  {
   "cell_type": "code",
   "execution_count": 152,
   "metadata": {
    "metadata": {}
   },
   "outputs": [
    {
     "name": "stdout",
     "output_type": "stream",
     "text": [
      "[ 0  0  0  0  0  0  0  0  0  0  0  0  0  0  0  0  0  0  0  0  1  2  2  2\n",
      "  1  3  4  3  3  5  6  7  7  8  9  8  9  9  9  9  0  0  0  0  0  0  0  0\n",
      "  0  6  0  0  0 10  0  0  0  0  0  0  0  0  0  0  0  0  0  0  0  0  0  0\n",
      "  0  0  0  0  0  0  0  0 11  2 12  1  1  1  1  1 12 13  9 14 14 15  7  7\n",
      " 16  9  7  6  6  6  6  6  6  6  6  6  6  6  0  0  0  0  0  0  0  0  0  0\n",
      "  0  0  0  0  0  0  0  0  0  0  0  0  0  0  0  0  0  0  0  0  1  6  6  1\n",
      " 17  4  4 12  2  1  7 18  7  7  7  7  7  7  7  6  6  6  6  6  6  6  6  6\n",
      "  6  6  0  0 10  6  0  0  6  7  7  7  0  0  0  0  0  0  0  0  0  0  0  0\n",
      "  0  0  0  0  0  0  0  0  6  6  6  6  6  6  6  6  6  6  7  7  7  7  6  6\n",
      "  7  7  7  9  6  6  6  6  6  6  6  6  6  6  7  6  6  7  7  6  6  2  2  6] \n",
      " Index(['Red', 'Blue White', 'White', 'Yellowish White', 'Blue white',\n",
      "       'Pale yellow orange', 'Blue', 'Blue-white', 'Whitish', 'yellow-white',\n",
      "       'Orange', 'White-Yellow', 'white', 'Blue ', 'yellowish', 'Yellowish',\n",
      "       'Orange-Red', 'Blue white ', 'Blue-White'],\n",
      "      dtype='object')\n",
      "[0 0 0 0 0 0 0 0 0 0 0 0 0 0 0 0 0 0 0 0 1 2 3 2 1 3 2 3 3 3 4 1 1 1 3 2 3\n",
      " 3 3 3 0 0 0 0 0 0 0 0 0 1 0 0 0 0 0 0 0 0 0 0 0 0 0 0 0 0 0 0 0 0 0 0 0 0\n",
      " 0 0 0 0 0 0 3 3 2 1 1 2 1 1 3 1 3 5 5 5 2 2 5 3 2 4 1 4 4 4 4 4 4 4 4 4 0\n",
      " 0 0 0 0 0 5 0 6 0 0 0 0 0 0 0 0 0 0 0 0 0 0 0 0 0 0 0 0 0 1 1 1 1 1 2 1 3\n",
      " 2 1 1 2 2 1 1 1 1 1 2 4 4 4 4 4 4 4 4 4 4 4 0 0 5 1 0 0 4 1 1 1 0 0 0 0 0\n",
      " 0 0 0 0 0 0 0 0 0 0 0 0 0 0 0 1 1 1 1 1 1 1 1 1 1 1 2 2 1 4 4 2 1 1 3 4 4\n",
      " 4 4 4 4 4 4 4 4 1 4 4 1 1 4 4 2 2 4] \n",
      " Index(['M', 'B', 'A', 'F', 'O', 'K', 'G'], dtype='object')\n"
     ]
    }
   ],
   "source": [
    "# Convert string columns to numbers for use in models\n",
    "colour_codes, colour_uniques = pd.factorize(df['Star color'])\n",
    "print(colour_codes, '\\n', colour_uniques)\n",
    "\n",
    "spectral_codes, spectral_uniques = pd.factorize(df['Spectral Class'])\n",
    "print(spectral_codes, '\\n', spectral_uniques)"
   ]
  },
  {
   "cell_type": "code",
   "execution_count": 153,
   "metadata": {
    "metadata": {}
   },
   "outputs": [
    {
     "name": "stdout",
     "output_type": "stream",
     "text": [
      "0    0\n",
      "1    0\n",
      "2    0\n",
      "3    0\n",
      "4    0\n",
      "Name: Star color, dtype: int64\n",
      "0    0\n",
      "1    0\n",
      "2    0\n",
      "3    0\n",
      "4    0\n",
      "Name: Spectral Class, dtype: int64\n"
     ]
    }
   ],
   "source": [
    "df['Star color'] = colour_codes\n",
    "print(df['Star color'].head())\n",
    "\n",
    "df['Spectral Class'] = spectral_codes\n",
    "print(df['Spectral Class'].head())"
   ]
  },
  {
   "cell_type": "code",
   "execution_count": 154,
   "metadata": {
    "metadata": {}
   },
   "outputs": [
    {
     "name": "stdout",
     "output_type": "stream",
     "text": [
      "{0: 'Red', 1: 'Blue White', 2: 'White', 3: 'Yellowish White', 4: 'Blue white', 5: 'Pale yellow orange', 6: 'Blue', 7: 'Blue-white', 8: 'Whitish', 9: 'yellow-white', 10: 'Orange', 11: 'White-Yellow', 12: 'white', 13: 'Blue ', 14: 'yellowish', 15: 'Yellowish', 16: 'Orange-Red', 17: 'Blue white ', 18: 'Blue-White'}\n",
      "{0: 'M', 1: 'B', 2: 'A', 3: 'F', 4: 'O', 5: 'K', 6: 'G'}\n"
     ]
    }
   ],
   "source": [
    "# Map the string values to their codes for future reference\n",
    "color_mapping = dict(enumerate(colour_uniques))\n",
    "print(color_mapping)\n",
    "\n",
    "spectral_mapping = dict(enumerate(spectral_uniques))\n",
    "print(spectral_mapping)"
   ]
  },
  {
   "cell_type": "code",
   "execution_count": 155,
   "metadata": {
    "metadata": {}
   },
   "outputs": [
    {
     "name": "stdout",
     "output_type": "stream",
     "text": [
      "Index(['Temperature (K)', 'Luminosity(L/Lo)', 'Radius(R/Ro)',\n",
      "       'Absolute magnitude(Mv)', 'Star color'],\n",
      "      dtype='object')\n"
     ]
    }
   ],
   "source": [
    "# Get columns then split data into train and test sets\n",
    "columns = df.columns.drop(['Star type','Spectral Class'])\n",
    "print(columns)\n",
    "X_train, X_test, y_train, y_test = train_test_split(df[columns],df['Star type'],test_size=0.33)"
   ]
  },
  {
   "cell_type": "code",
   "execution_count": 156,
   "metadata": {
    "metadata": {}
   },
   "outputs": [],
   "source": [
    "# Scale the data\n",
    "scaler = MinMaxScaler()\n",
    "X_train = scaler.fit_transform(X_train)\n",
    "X_test = scaler.transform(X_test)"
   ]
  },
  {
   "cell_type": "code",
   "execution_count": 157,
   "metadata": {
    "metadata": {}
   },
   "outputs": [
    {
     "data": {
      "text/html": [
       "<div>\n",
       "<style scoped>\n",
       "    .dataframe tbody tr th:only-of-type {\n",
       "        vertical-align: middle;\n",
       "    }\n",
       "\n",
       "    .dataframe tbody tr th {\n",
       "        vertical-align: top;\n",
       "    }\n",
       "\n",
       "    .dataframe thead th {\n",
       "        text-align: right;\n",
       "    }\n",
       "</style>\n",
       "<table border=\"1\" class=\"dataframe\">\n",
       "  <thead>\n",
       "    <tr style=\"text-align: right;\">\n",
       "      <th></th>\n",
       "      <th>Temperature (K)</th>\n",
       "      <th>Luminosity(L/Lo)</th>\n",
       "      <th>Radius(R/Ro)</th>\n",
       "      <th>Absolute magnitude(Mv)</th>\n",
       "      <th>Star type</th>\n",
       "      <th>Star color</th>\n",
       "      <th>Spectral Class</th>\n",
       "    </tr>\n",
       "  </thead>\n",
       "  <tbody>\n",
       "    <tr>\n",
       "      <th>0</th>\n",
       "      <td>3068</td>\n",
       "      <td>0.002400</td>\n",
       "      <td>0.1700</td>\n",
       "      <td>16.12</td>\n",
       "      <td>0</td>\n",
       "      <td>0</td>\n",
       "      <td>0</td>\n",
       "    </tr>\n",
       "    <tr>\n",
       "      <th>1</th>\n",
       "      <td>3042</td>\n",
       "      <td>0.000500</td>\n",
       "      <td>0.1542</td>\n",
       "      <td>16.60</td>\n",
       "      <td>0</td>\n",
       "      <td>0</td>\n",
       "      <td>0</td>\n",
       "    </tr>\n",
       "    <tr>\n",
       "      <th>2</th>\n",
       "      <td>2600</td>\n",
       "      <td>0.000300</td>\n",
       "      <td>0.1020</td>\n",
       "      <td>18.70</td>\n",
       "      <td>0</td>\n",
       "      <td>0</td>\n",
       "      <td>0</td>\n",
       "    </tr>\n",
       "    <tr>\n",
       "      <th>3</th>\n",
       "      <td>2800</td>\n",
       "      <td>0.000200</td>\n",
       "      <td>0.1600</td>\n",
       "      <td>16.65</td>\n",
       "      <td>0</td>\n",
       "      <td>0</td>\n",
       "      <td>0</td>\n",
       "    </tr>\n",
       "    <tr>\n",
       "      <th>4</th>\n",
       "      <td>1939</td>\n",
       "      <td>0.000138</td>\n",
       "      <td>0.1030</td>\n",
       "      <td>20.06</td>\n",
       "      <td>0</td>\n",
       "      <td>0</td>\n",
       "      <td>0</td>\n",
       "    </tr>\n",
       "    <tr>\n",
       "      <th>...</th>\n",
       "      <td>...</td>\n",
       "      <td>...</td>\n",
       "      <td>...</td>\n",
       "      <td>...</td>\n",
       "      <td>...</td>\n",
       "      <td>...</td>\n",
       "      <td>...</td>\n",
       "    </tr>\n",
       "    <tr>\n",
       "      <th>235</th>\n",
       "      <td>38940</td>\n",
       "      <td>374830.000000</td>\n",
       "      <td>1356.0000</td>\n",
       "      <td>-9.93</td>\n",
       "      <td>5</td>\n",
       "      <td>6</td>\n",
       "      <td>4</td>\n",
       "    </tr>\n",
       "    <tr>\n",
       "      <th>236</th>\n",
       "      <td>30839</td>\n",
       "      <td>834042.000000</td>\n",
       "      <td>1194.0000</td>\n",
       "      <td>-10.63</td>\n",
       "      <td>5</td>\n",
       "      <td>6</td>\n",
       "      <td>4</td>\n",
       "    </tr>\n",
       "    <tr>\n",
       "      <th>237</th>\n",
       "      <td>8829</td>\n",
       "      <td>537493.000000</td>\n",
       "      <td>1423.0000</td>\n",
       "      <td>-10.73</td>\n",
       "      <td>5</td>\n",
       "      <td>2</td>\n",
       "      <td>2</td>\n",
       "    </tr>\n",
       "    <tr>\n",
       "      <th>238</th>\n",
       "      <td>9235</td>\n",
       "      <td>404940.000000</td>\n",
       "      <td>1112.0000</td>\n",
       "      <td>-11.23</td>\n",
       "      <td>5</td>\n",
       "      <td>2</td>\n",
       "      <td>2</td>\n",
       "    </tr>\n",
       "    <tr>\n",
       "      <th>239</th>\n",
       "      <td>37882</td>\n",
       "      <td>294903.000000</td>\n",
       "      <td>1783.0000</td>\n",
       "      <td>-7.80</td>\n",
       "      <td>5</td>\n",
       "      <td>6</td>\n",
       "      <td>4</td>\n",
       "    </tr>\n",
       "  </tbody>\n",
       "</table>\n",
       "<p>240 rows × 7 columns</p>\n",
       "</div>"
      ],
      "text/plain": [
       "     Temperature (K)  Luminosity(L/Lo)  Radius(R/Ro)  Absolute magnitude(Mv)  \\\n",
       "0               3068          0.002400        0.1700                   16.12   \n",
       "1               3042          0.000500        0.1542                   16.60   \n",
       "2               2600          0.000300        0.1020                   18.70   \n",
       "3               2800          0.000200        0.1600                   16.65   \n",
       "4               1939          0.000138        0.1030                   20.06   \n",
       "..               ...               ...           ...                     ...   \n",
       "235            38940     374830.000000     1356.0000                   -9.93   \n",
       "236            30839     834042.000000     1194.0000                  -10.63   \n",
       "237             8829     537493.000000     1423.0000                  -10.73   \n",
       "238             9235     404940.000000     1112.0000                  -11.23   \n",
       "239            37882     294903.000000     1783.0000                   -7.80   \n",
       "\n",
       "     Star type  Star color  Spectral Class  \n",
       "0            0           0               0  \n",
       "1            0           0               0  \n",
       "2            0           0               0  \n",
       "3            0           0               0  \n",
       "4            0           0               0  \n",
       "..         ...         ...             ...  \n",
       "235          5           6               4  \n",
       "236          5           6               4  \n",
       "237          5           2               2  \n",
       "238          5           2               2  \n",
       "239          5           6               4  \n",
       "\n",
       "[240 rows x 7 columns]"
      ]
     },
     "execution_count": 157,
     "metadata": {},
     "output_type": "execute_result"
    }
   ],
   "source": [
    "df"
   ]
  },
  {
   "cell_type": "code",
   "execution_count": 158,
   "metadata": {
    "metadata": {}
   },
   "outputs": [
    {
     "name": "stdout",
     "output_type": "stream",
     "text": [
      "KNN: 0.9875\n",
      "Tree: 0.975\n",
      "Linear: 0.95\n",
      "NB: 0.975\n",
      "SVC: 0.95\n"
     ]
    }
   ],
   "source": [
    "# Train each model and keep track of scores in a dict\n",
    "test_results = {}\n",
    "\n",
    "knn = KNeighborsClassifier()\n",
    "knn.fit(X_train, y_train)\n",
    "score = knn.score(X_test, y_test)\n",
    "print(f'KNN: {score}')\n",
    "test_results['KNN'] = [score, knn]\n",
    "\n",
    "tree = DecisionTreeClassifier()\n",
    "tree.fit(X_train, y_train)\n",
    "score = tree.score(X_test, y_test)\n",
    "print(f'Tree: {score}')\n",
    "test_results['Tree'] = [score, tree]\n",
    "\n",
    "lin = LogisticRegression()\n",
    "lin.fit(X_train, y_train)\n",
    "score = lin.score(X_test, y_test)\n",
    "print(f'Linear: {score}')\n",
    "test_results['Linear'] = [score, lin]\n",
    "\n",
    "naive = GaussianNB()\n",
    "naive.fit(X_train, y_train)\n",
    "score = naive.score(X_test, y_test)\n",
    "print(f'NB: {score}')\n",
    "test_results['NB'] = [score, naive]\n",
    "\n",
    "svc = LinearSVC()\n",
    "svc.fit(X_train, y_train)\n",
    "score = svc.score(X_test, y_test)\n",
    "print(f'SVC: {score}')\n",
    "test_results['SVC'] = [score, svc]"
   ]
  },
  {
   "cell_type": "code",
   "execution_count": 159,
   "metadata": {
    "metadata": {}
   },
   "outputs": [],
   "source": [
    "# Get the best performing model\n",
    "max_model = max(test_results, key=lambda x: test_results[x][0])\n",
    "model = test_results[max_model][1]"
   ]
  },
  {
   "cell_type": "code",
   "execution_count": 160,
   "metadata": {
    "metadata": {}
   },
   "outputs": [],
   "source": [
    "# Predict with the selected model\n",
    "preds = model.predict(X_test)"
   ]
  },
  {
   "cell_type": "code",
   "execution_count": 161,
   "metadata": {
    "metadata": {}
   },
   "outputs": [
    {
     "name": "stdout",
     "output_type": "stream",
     "text": [
      "[0, 4, 4, 4, 5, 2, 3, 4, 5, 2, 5, 5, 4, 2, 4, 5, 0, 2, 4, 2, 0, 4, 3, 4, 1, 3, 5, 4, 1, 3, 5, 5, 0, 5, 2, 5, 5, 3, 5, 4, 2, 3, 3, 4, 0, 2, 5, 1, 3, 1, 1, 3, 1, 1, 0, 4, 4, 3, 1, 5, 0, 5, 5, 3, 5, 3, 5, 1, 5, 4, 5, 3, 0, 4, 0, 0, 4, 3, 1, 4] \n",
      " [0 4 4 4 5 2 3 4 5 2 5 5 4 2 4 5 0 2 4 2 0 4 3 4 1 3 5 4 1 3 5 5 0 5 2 5 5\n",
      " 3 5 4 2 3 3 4 0 2 5 1 4 1 1 3 1 1 0 4 4 3 1 5 0 5 5 3 5 3 5 1 5 4 5 3 0 4\n",
      " 0 0 4 3 1 4]\n"
     ]
    }
   ],
   "source": [
    "print(y_test.to_list(),'\\n',preds)"
   ]
  },
  {
   "cell_type": "code",
   "execution_count": 162,
   "metadata": {
    "metadata": {}
   },
   "outputs": [
    {
     "data": {
      "image/png": "[encoded data removed]",
      "text/plain": [
       "<Figure size 1000x700 with 2 Axes>"
      ]
     },
     "metadata": {},
     "output_type": "display_data"
    }
   ],
   "source": [
    "# Confusion matrix of the predictions\n",
    "cm = confusion_matrix(y_test, preds)\n",
    "\n",
    "plt.figure(figsize=(10,7))\n",
    "sns.heatmap(cm, annot=True, fmt=\"d\")\n",
    "plt.xlabel('Predicted')\n",
    "plt.ylabel('True')\n",
    "plt.show()\n"
   ]
  },
  {
   "cell_type": "code",
   "execution_count": 163,
   "metadata": {
    "metadata": {}
   },
   "outputs": [
    {
     "name": "stdout",
     "output_type": "stream",
     "text": [
      "Precision: 0.9875\n",
      "Recall: 0.9875\n",
      "F1: 0.9875\n"
     ]
    }
   ],
   "source": [
    "# Print scores with micro averaging\n",
    "print(f'Precision: {precision_score(y_test, preds, average=\"micro\")}')\n",
    "print(f'Recall: {recall_score(y_test, preds, average=\"micro\")}')\n",
    "print(f'F1: {f1_score(y_test, preds, average=\"micro\")}')"
   ]
  },
  {
   "cell_type": "code",
   "execution_count": 164,
   "metadata": {
    "metadata": {}
   },
   "outputs": [
    {
     "name": "stderr",
     "output_type": "stream",
     "text": [
      "No artists with labels found to put in legend.  Note that artists whose label start with an underscore are ignored when legend() is called with no argument.\n"
     ]
    },
    {
     "data": {
      "image/png": "[encoded data removed]",
      "text/plain": [
       "<Figure size 640x480 with 1 Axes>"
      ]
     },
     "metadata": {},
     "output_type": "display_data"
    }
   ],
   "source": [
    "# Just for visuals\n",
    "pca = PCA(2)\n",
    "pca_df = pca.fit_transform(X_train)\n",
    "\n",
    "plt.scatter(pca_df[:, 0], pca_df[:, 1], c=y_train, cmap='viridis', edgecolor='k', alpha=0.5)\n",
    "plt.legend()\n",
    "plt.show()"
   ]
  }
 ],
 "metadata": {
  "kernelspec": {
   "display_name": "nasa",
   "language": "python",
   "name": "python3"
  },
  "language_info": {
   "codemirror_mode": {
    "name": "ipython",
    "version": 3
   },
   "file_extension": ".py",
   "mimetype": "text/x-python",
   "name": "python",
   "nbconvert_exporter": "python",
   "pygments_lexer": "ipython3",
   "version": "3.10.11"
  }
 },
 "nbformat": 4,
 "nbformat_minor": 2
}
