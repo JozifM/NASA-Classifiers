{
 "cells": [
  {
   "cell_type": "code",
   "execution_count": 1,
   "metadata": {},
   "outputs": [],
   "source": [
    "import pandas as pd\n",
    "from functions import get_data"
   ]
  },
  {
   "cell_type": "code",
   "execution_count": 3,
   "metadata": {},
   "outputs": [
    {
     "name": "stdout",
     "output_type": "stream",
     "text": [
      "dict_keys(['links', 'id', 'neo_reference_id', 'name', 'nasa_jpl_url', 'absolute_magnitude_h', 'estimated_diameter', 'is_potentially_hazardous_asteroid', 'close_approach_data', 'is_sentry_object'])\n",
      "644\n"
     ]
    }
   ],
   "source": [
    "#asteroids\n",
    "data = get_data('asteroids', start = '2020-06-28', end = '2020-07-05')\n",
    "\n",
    "neo = data['near_earth_objects']\n",
    "dates = list(data['near_earth_objects'].keys())\n",
    "\n",
    "temp_dict = {}\n",
    "print(neo[dates[0]][0].keys())\n",
    "for d in dates:\n",
    "    for i in neo[d]:\n",
    "        temp_dict[i['name']] = {'magnitude': i['absolute_magnitude_h'],'min_diameter': i['estimated_diameter']['meters']['estimated_diameter_min'],'max_diameter': i['estimated_diameter']['meters']['estimated_diameter_max'],\n",
    "                                'speed': i['close_approach_data'][0]['relative_velocity']['kilometers_per_second'],'miss_distance':i['close_approach_data'][0]['miss_distance']['miles'],\n",
    "                                'target': i['is_potentially_hazardous_asteroid']}\n",
    "        #print(i['close_approach_data'][0].keys())\n",
    "df = pd.DataFrame(temp_dict).T\n",
    "\n",
    "columns = df.columns\n",
    "for c in columns:\n",
    "    df[c] = df[c].astype(float)\n",
    "\n",
    "df = pd.concat([df,pd.read_csv('../input/asteroid_data.csv', index_col=0)])\n",
    "print(len(df))\n",
    "\n",
    "df.to_csv('../input/asteroid_data.csv')"
   ]
  }
 ],
 "metadata": {
  "kernelspec": {
   "display_name": "nasa",
   "language": "python",
   "name": "python3"
  },
  "language_info": {
   "codemirror_mode": {
    "name": "ipython",
    "version": 3
   },
   "file_extension": ".py",
   "mimetype": "text/x-python",
   "name": "python",
   "nbconvert_exporter": "python",
   "pygments_lexer": "ipython3",
   "version": "3.10.13"
  }
 },
 "nbformat": 4,
 "nbformat_minor": 2
}
